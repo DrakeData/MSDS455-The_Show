{
 "cells": [
  {
   "cell_type": "markdown",
   "id": "f9121267",
   "metadata": {},
   "source": [
    "# Exploratory Data Analysis"
   ]
  },
  {
   "cell_type": "markdown",
   "id": "d6f77b36",
   "metadata": {},
   "source": [
    "## Buildboard Charts\n",
    "link: https://www.kaggle.com/datasets/dhruvildave/billboard-the-hot-100-songs"
   ]
  },
  {
   "cell_type": "code",
   "execution_count": 1,
   "id": "f309023f",
   "metadata": {},
   "outputs": [],
   "source": [
    "import pandas as pd\n",
    "import numpy as np\n",
    "import os\n",
    "import kaggle"
   ]
  },
  {
   "cell_type": "markdown",
   "id": "f438eec3",
   "metadata": {},
   "source": [
    "### Get data from Kaggle\n",
    "To download csv file using Python, you will need a [Kaggle API Key](https://www.kaggle.com/docs/api). \n",
    "\n",
    "Make sure to save the API key in 'C:\\Users\\USER_NAME.kaggle' directory."
   ]
  },
  {
   "cell_type": "code",
   "execution_count": 2,
   "id": "11132af2",
   "metadata": {},
   "outputs": [],
   "source": [
    "kaggle.api.authenticate()"
   ]
  },
  {
   "cell_type": "code",
   "execution_count": 3,
   "id": "d0ed9634",
   "metadata": {},
   "outputs": [],
   "source": [
    "kaggle.api.dataset_download_files('dhruvildave/billboard-the-hot-100-songs', 'billboard_data', unzip=True)"
   ]
  },
  {
   "cell_type": "markdown",
   "id": "4ea82353",
   "metadata": {},
   "source": [
    "### Set up directory"
   ]
  },
  {
   "cell_type": "code",
   "execution_count": 4,
   "id": "a98d4202",
   "metadata": {},
   "outputs": [
    {
     "name": "stdout",
     "output_type": "stream",
     "text": [
      "Root Directory: C:\\Users\\Nicholas\\Desktop\\Masters - Classes\\MSDS455\\MSDS455-The_Show\n",
      "Bilboard Directory: C:\\Users\\Nicholas\\Desktop\\Masters - Classes\\MSDS455\\MSDS455-The_Show\\billboard_data\n"
     ]
    }
   ],
   "source": [
    "ROOT = os.getcwd()\n",
    "print(f\"Root Directory: {ROOT}\")\n",
    "\n",
    "BILLBOARD_DIR = os.path.join(ROOT, 'billboard_data')\n",
    "print(f\"Bilboard Directory: {BILLBOARD_DIR}\")"
   ]
  },
  {
   "cell_type": "markdown",
   "id": "c9d54b3f",
   "metadata": {},
   "source": [
    "### Read into pandas data frame"
   ]
  },
  {
   "cell_type": "code",
   "execution_count": 5,
   "id": "daa7825a",
   "metadata": {},
   "outputs": [
    {
     "name": "stdout",
     "output_type": "stream",
     "text": [
      "330087\n"
     ]
    },
    {
     "data": {
      "text/html": [
       "<div>\n",
       "<style scoped>\n",
       "    .dataframe tbody tr th:only-of-type {\n",
       "        vertical-align: middle;\n",
       "    }\n",
       "\n",
       "    .dataframe tbody tr th {\n",
       "        vertical-align: top;\n",
       "    }\n",
       "\n",
       "    .dataframe thead th {\n",
       "        text-align: right;\n",
       "    }\n",
       "</style>\n",
       "<table border=\"1\" class=\"dataframe\">\n",
       "  <thead>\n",
       "    <tr style=\"text-align: right;\">\n",
       "      <th></th>\n",
       "      <th>date</th>\n",
       "      <th>rank</th>\n",
       "      <th>song</th>\n",
       "      <th>artist</th>\n",
       "      <th>last-week</th>\n",
       "      <th>peak-rank</th>\n",
       "      <th>weeks-on-board</th>\n",
       "    </tr>\n",
       "  </thead>\n",
       "  <tbody>\n",
       "    <tr>\n",
       "      <th>0</th>\n",
       "      <td>2021-11-06</td>\n",
       "      <td>1</td>\n",
       "      <td>Easy On Me</td>\n",
       "      <td>Adele</td>\n",
       "      <td>1.0</td>\n",
       "      <td>1</td>\n",
       "      <td>3</td>\n",
       "    </tr>\n",
       "    <tr>\n",
       "      <th>1</th>\n",
       "      <td>2021-11-06</td>\n",
       "      <td>2</td>\n",
       "      <td>Stay</td>\n",
       "      <td>The Kid LAROI &amp; Justin Bieber</td>\n",
       "      <td>2.0</td>\n",
       "      <td>1</td>\n",
       "      <td>16</td>\n",
       "    </tr>\n",
       "    <tr>\n",
       "      <th>2</th>\n",
       "      <td>2021-11-06</td>\n",
       "      <td>3</td>\n",
       "      <td>Industry Baby</td>\n",
       "      <td>Lil Nas X &amp; Jack Harlow</td>\n",
       "      <td>3.0</td>\n",
       "      <td>1</td>\n",
       "      <td>14</td>\n",
       "    </tr>\n",
       "    <tr>\n",
       "      <th>3</th>\n",
       "      <td>2021-11-06</td>\n",
       "      <td>4</td>\n",
       "      <td>Fancy Like</td>\n",
       "      <td>Walker Hayes</td>\n",
       "      <td>4.0</td>\n",
       "      <td>3</td>\n",
       "      <td>19</td>\n",
       "    </tr>\n",
       "    <tr>\n",
       "      <th>4</th>\n",
       "      <td>2021-11-06</td>\n",
       "      <td>5</td>\n",
       "      <td>Bad Habits</td>\n",
       "      <td>Ed Sheeran</td>\n",
       "      <td>5.0</td>\n",
       "      <td>2</td>\n",
       "      <td>18</td>\n",
       "    </tr>\n",
       "  </tbody>\n",
       "</table>\n",
       "</div>"
      ],
      "text/plain": [
       "         date  rank           song                         artist  last-week  \\\n",
       "0  2021-11-06     1     Easy On Me                          Adele        1.0   \n",
       "1  2021-11-06     2           Stay  The Kid LAROI & Justin Bieber        2.0   \n",
       "2  2021-11-06     3  Industry Baby        Lil Nas X & Jack Harlow        3.0   \n",
       "3  2021-11-06     4     Fancy Like                   Walker Hayes        4.0   \n",
       "4  2021-11-06     5     Bad Habits                     Ed Sheeran        5.0   \n",
       "\n",
       "   peak-rank  weeks-on-board  \n",
       "0          1               3  \n",
       "1          1              16  \n",
       "2          1              14  \n",
       "3          3              19  \n",
       "4          2              18  "
      ]
     },
     "execution_count": 5,
     "metadata": {},
     "output_type": "execute_result"
    }
   ],
   "source": [
    "billboard_df = pd.read_csv(os.path.join(BILLBOARD_DIR, 'charts.csv'))\n",
    "print(len(billboard_df))\n",
    "billboard_df.head()"
   ]
  },
  {
   "cell_type": "code",
   "execution_count": 6,
   "id": "14ee911d",
   "metadata": {},
   "outputs": [
    {
     "data": {
      "text/html": [
       "<div>\n",
       "<style scoped>\n",
       "    .dataframe tbody tr th:only-of-type {\n",
       "        vertical-align: middle;\n",
       "    }\n",
       "\n",
       "    .dataframe tbody tr th {\n",
       "        vertical-align: top;\n",
       "    }\n",
       "\n",
       "    .dataframe thead th {\n",
       "        text-align: right;\n",
       "    }\n",
       "</style>\n",
       "<table border=\"1\" class=\"dataframe\">\n",
       "  <thead>\n",
       "    <tr style=\"text-align: right;\">\n",
       "      <th></th>\n",
       "      <th>rank</th>\n",
       "      <th>last-week</th>\n",
       "      <th>peak-rank</th>\n",
       "      <th>weeks-on-board</th>\n",
       "    </tr>\n",
       "  </thead>\n",
       "  <tbody>\n",
       "    <tr>\n",
       "      <th>count</th>\n",
       "      <td>330087.000000</td>\n",
       "      <td>297775.000000</td>\n",
       "      <td>330087.000000</td>\n",
       "      <td>330087.000000</td>\n",
       "    </tr>\n",
       "    <tr>\n",
       "      <th>mean</th>\n",
       "      <td>50.500929</td>\n",
       "      <td>47.591631</td>\n",
       "      <td>40.970629</td>\n",
       "      <td>9.161785</td>\n",
       "    </tr>\n",
       "    <tr>\n",
       "      <th>std</th>\n",
       "      <td>28.866094</td>\n",
       "      <td>28.054360</td>\n",
       "      <td>29.347481</td>\n",
       "      <td>7.618264</td>\n",
       "    </tr>\n",
       "    <tr>\n",
       "      <th>min</th>\n",
       "      <td>1.000000</td>\n",
       "      <td>1.000000</td>\n",
       "      <td>1.000000</td>\n",
       "      <td>1.000000</td>\n",
       "    </tr>\n",
       "    <tr>\n",
       "      <th>25%</th>\n",
       "      <td>26.000000</td>\n",
       "      <td>23.000000</td>\n",
       "      <td>13.000000</td>\n",
       "      <td>4.000000</td>\n",
       "    </tr>\n",
       "    <tr>\n",
       "      <th>50%</th>\n",
       "      <td>51.000000</td>\n",
       "      <td>47.000000</td>\n",
       "      <td>38.000000</td>\n",
       "      <td>7.000000</td>\n",
       "    </tr>\n",
       "    <tr>\n",
       "      <th>75%</th>\n",
       "      <td>76.000000</td>\n",
       "      <td>72.000000</td>\n",
       "      <td>65.000000</td>\n",
       "      <td>13.000000</td>\n",
       "    </tr>\n",
       "    <tr>\n",
       "      <th>max</th>\n",
       "      <td>100.000000</td>\n",
       "      <td>100.000000</td>\n",
       "      <td>100.000000</td>\n",
       "      <td>90.000000</td>\n",
       "    </tr>\n",
       "  </tbody>\n",
       "</table>\n",
       "</div>"
      ],
      "text/plain": [
       "                rank      last-week      peak-rank  weeks-on-board\n",
       "count  330087.000000  297775.000000  330087.000000   330087.000000\n",
       "mean       50.500929      47.591631      40.970629        9.161785\n",
       "std        28.866094      28.054360      29.347481        7.618264\n",
       "min         1.000000       1.000000       1.000000        1.000000\n",
       "25%        26.000000      23.000000      13.000000        4.000000\n",
       "50%        51.000000      47.000000      38.000000        7.000000\n",
       "75%        76.000000      72.000000      65.000000       13.000000\n",
       "max       100.000000     100.000000     100.000000       90.000000"
      ]
     },
     "execution_count": 6,
     "metadata": {},
     "output_type": "execute_result"
    }
   ],
   "source": [
    "billboard_df.describe()"
   ]
  },
  {
   "cell_type": "code",
   "execution_count": 7,
   "id": "2c7f32c3",
   "metadata": {},
   "outputs": [
    {
     "data": {
      "text/plain": [
       "date               object\n",
       "rank                int64\n",
       "song               object\n",
       "artist             object\n",
       "last-week         float64\n",
       "peak-rank           int64\n",
       "weeks-on-board      int64\n",
       "dtype: object"
      ]
     },
     "execution_count": 7,
     "metadata": {},
     "output_type": "execute_result"
    }
   ],
   "source": [
    "billboard_df.dtypes"
   ]
  },
  {
   "cell_type": "code",
   "execution_count": 8,
   "id": "4cf7b284",
   "metadata": {},
   "outputs": [
    {
     "name": "stdout",
     "output_type": "stream",
     "text": [
      "date                  0\n",
      "rank                  0\n",
      "song                  0\n",
      "artist                0\n",
      "last-week         32312\n",
      "peak-rank             0\n",
      "weeks-on-board        0\n",
      "dtype: int64\n"
     ]
    }
   ],
   "source": [
    "# Check for Nulls\n",
    "print(billboard_df.isnull().sum())"
   ]
  },
  {
   "cell_type": "code",
   "execution_count": 9,
   "id": "a8e705dc",
   "metadata": {},
   "outputs": [
    {
     "name": "stdout",
     "output_type": "stream",
     "text": [
      "Number of unique tracks: 24620\n"
     ]
    }
   ],
   "source": [
    "# Unique tracks\n",
    "print(f\"Number of unique tracks: {len(billboard_df['song'].unique())}\")"
   ]
  },
  {
   "cell_type": "markdown",
   "id": "ecb47d20",
   "metadata": {},
   "source": [
    "#### Clean up date column from dtype Object to Datetime and create new column for \"Year\" and \"Month\""
   ]
  },
  {
   "cell_type": "code",
   "execution_count": 10,
   "id": "49b6bce8",
   "metadata": {},
   "outputs": [
    {
     "data": {
      "text/html": [
       "<div>\n",
       "<style scoped>\n",
       "    .dataframe tbody tr th:only-of-type {\n",
       "        vertical-align: middle;\n",
       "    }\n",
       "\n",
       "    .dataframe tbody tr th {\n",
       "        vertical-align: top;\n",
       "    }\n",
       "\n",
       "    .dataframe thead th {\n",
       "        text-align: right;\n",
       "    }\n",
       "</style>\n",
       "<table border=\"1\" class=\"dataframe\">\n",
       "  <thead>\n",
       "    <tr style=\"text-align: right;\">\n",
       "      <th></th>\n",
       "      <th>date</th>\n",
       "      <th>rank</th>\n",
       "      <th>song</th>\n",
       "      <th>artist</th>\n",
       "      <th>last-week</th>\n",
       "      <th>peak-rank</th>\n",
       "      <th>weeks-on-board</th>\n",
       "      <th>year</th>\n",
       "      <th>month</th>\n",
       "    </tr>\n",
       "  </thead>\n",
       "  <tbody>\n",
       "    <tr>\n",
       "      <th>0</th>\n",
       "      <td>2021-11-06</td>\n",
       "      <td>1</td>\n",
       "      <td>Easy On Me</td>\n",
       "      <td>Adele</td>\n",
       "      <td>1.0</td>\n",
       "      <td>1</td>\n",
       "      <td>3</td>\n",
       "      <td>2021</td>\n",
       "      <td>11</td>\n",
       "    </tr>\n",
       "    <tr>\n",
       "      <th>1</th>\n",
       "      <td>2021-11-06</td>\n",
       "      <td>2</td>\n",
       "      <td>Stay</td>\n",
       "      <td>The Kid LAROI &amp; Justin Bieber</td>\n",
       "      <td>2.0</td>\n",
       "      <td>1</td>\n",
       "      <td>16</td>\n",
       "      <td>2021</td>\n",
       "      <td>11</td>\n",
       "    </tr>\n",
       "    <tr>\n",
       "      <th>2</th>\n",
       "      <td>2021-11-06</td>\n",
       "      <td>3</td>\n",
       "      <td>Industry Baby</td>\n",
       "      <td>Lil Nas X &amp; Jack Harlow</td>\n",
       "      <td>3.0</td>\n",
       "      <td>1</td>\n",
       "      <td>14</td>\n",
       "      <td>2021</td>\n",
       "      <td>11</td>\n",
       "    </tr>\n",
       "    <tr>\n",
       "      <th>3</th>\n",
       "      <td>2021-11-06</td>\n",
       "      <td>4</td>\n",
       "      <td>Fancy Like</td>\n",
       "      <td>Walker Hayes</td>\n",
       "      <td>4.0</td>\n",
       "      <td>3</td>\n",
       "      <td>19</td>\n",
       "      <td>2021</td>\n",
       "      <td>11</td>\n",
       "    </tr>\n",
       "    <tr>\n",
       "      <th>4</th>\n",
       "      <td>2021-11-06</td>\n",
       "      <td>5</td>\n",
       "      <td>Bad Habits</td>\n",
       "      <td>Ed Sheeran</td>\n",
       "      <td>5.0</td>\n",
       "      <td>2</td>\n",
       "      <td>18</td>\n",
       "      <td>2021</td>\n",
       "      <td>11</td>\n",
       "    </tr>\n",
       "  </tbody>\n",
       "</table>\n",
       "</div>"
      ],
      "text/plain": [
       "        date  rank           song                         artist  last-week  \\\n",
       "0 2021-11-06     1     Easy On Me                          Adele        1.0   \n",
       "1 2021-11-06     2           Stay  The Kid LAROI & Justin Bieber        2.0   \n",
       "2 2021-11-06     3  Industry Baby        Lil Nas X & Jack Harlow        3.0   \n",
       "3 2021-11-06     4     Fancy Like                   Walker Hayes        4.0   \n",
       "4 2021-11-06     5     Bad Habits                     Ed Sheeran        5.0   \n",
       "\n",
       "   peak-rank  weeks-on-board  year  month  \n",
       "0          1               3  2021     11  \n",
       "1          1              16  2021     11  \n",
       "2          1              14  2021     11  \n",
       "3          3              19  2021     11  \n",
       "4          2              18  2021     11  "
      ]
     },
     "execution_count": 10,
     "metadata": {},
     "output_type": "execute_result"
    }
   ],
   "source": [
    "billboard_df['date'] = pd.to_datetime(billboard_df['date'])\n",
    "billboard_df['year'] = billboard_df['date'].dt.year\n",
    "billboard_df['month'] = billboard_df['date'].dt.month\n",
    "\n",
    "billboard_df.head()"
   ]
  },
  {
   "cell_type": "code",
   "execution_count": 11,
   "id": "57f4b34d",
   "metadata": {},
   "outputs": [
    {
     "data": {
      "text/plain": [
       "[1958,\n",
       " 1959,\n",
       " 1960,\n",
       " 1961,\n",
       " 1962,\n",
       " 1963,\n",
       " 1964,\n",
       " 1965,\n",
       " 1966,\n",
       " 1967,\n",
       " 1968,\n",
       " 1969,\n",
       " 1970,\n",
       " 1971,\n",
       " 1972,\n",
       " 1973,\n",
       " 1974,\n",
       " 1975,\n",
       " 1976,\n",
       " 1977,\n",
       " 1978,\n",
       " 1979,\n",
       " 1980,\n",
       " 1981,\n",
       " 1982,\n",
       " 1983,\n",
       " 1984,\n",
       " 1985,\n",
       " 1986,\n",
       " 1987,\n",
       " 1988,\n",
       " 1989,\n",
       " 1990,\n",
       " 1991,\n",
       " 1992,\n",
       " 1993,\n",
       " 1994,\n",
       " 1995,\n",
       " 1996,\n",
       " 1997,\n",
       " 1998,\n",
       " 1999,\n",
       " 2000,\n",
       " 2001,\n",
       " 2002,\n",
       " 2003,\n",
       " 2004,\n",
       " 2005,\n",
       " 2006,\n",
       " 2007,\n",
       " 2008,\n",
       " 2009,\n",
       " 2010,\n",
       " 2011,\n",
       " 2012,\n",
       " 2013,\n",
       " 2014,\n",
       " 2015,\n",
       " 2016,\n",
       " 2017,\n",
       " 2018,\n",
       " 2019,\n",
       " 2020,\n",
       " 2021]"
      ]
     },
     "execution_count": 11,
     "metadata": {},
     "output_type": "execute_result"
    }
   ],
   "source": [
    "# Look at unique years\n",
    "sorted(billboard_df['year'].unique())"
   ]
  },
  {
   "cell_type": "code",
   "execution_count": 20,
   "id": "a08619a7",
   "metadata": {},
   "outputs": [
    {
     "name": "stdout",
     "output_type": "stream",
     "text": [
      "['Easy On Me', 'Stay', 'Industry Baby', 'Fancy Like', 'Bad Habits']\n",
      "['Adele', 'The Kid LAROI & Justin Bieber', 'Lil Nas X & Jack Harlow', 'Walker Hayes', 'Ed Sheeran']\n"
     ]
    }
   ],
   "source": [
    "# track name list\n",
    "track_ls = list(billboard_df['song'].unique())\n",
    "print(track_ls[:5])\n",
    "\n",
    "# artist name list\n",
    "artist_ls = list(billboard_df['artist'].unique())\n",
    "print(artist_ls[:5])"
   ]
  },
  {
   "cell_type": "markdown",
   "id": "baccbac7",
   "metadata": {},
   "source": [
    "## Spotify API\n",
    "- [Spotipy Documentation](https://spotipy.readthedocs.io/en/2.22.1/)"
   ]
  },
  {
   "cell_type": "code",
   "execution_count": 13,
   "id": "ebd9b352",
   "metadata": {},
   "outputs": [],
   "source": [
    "import json\n",
    "import requests\n",
    "import spotipy\n",
    "from spotipy.oauth2 import SpotifyClientCredentials\n",
    "import config"
   ]
  },
  {
   "cell_type": "code",
   "execution_count": 14,
   "id": "8c5d74f7",
   "metadata": {},
   "outputs": [],
   "source": [
    "client_credentials_manager = SpotifyClientCredentials(client_id=config.client_id, client_secret=config.client_secret)"
   ]
  },
  {
   "cell_type": "code",
   "execution_count": 17,
   "id": "5c00089c",
   "metadata": {},
   "outputs": [],
   "source": [
    "sp = spotipy.Spotify(client_credentials_manager=client_credentials_manager)"
   ]
  },
  {
   "cell_type": "code",
   "execution_count": 80,
   "id": "b6dbfb1c",
   "metadata": {},
   "outputs": [],
   "source": [
    "artist= artist_ls[0]\n",
    "track= track_ls[0]\n",
    "\n",
    "request = sp.search(q='artist:' + artist + ' track:' + track, type='track')"
   ]
  },
  {
   "cell_type": "code",
   "execution_count": 86,
   "id": "65e7126b",
   "metadata": {},
   "outputs": [
    {
     "name": "stdout",
     "output_type": "stream",
     "text": [
      "Track ID: 0gplL1WMoJ6iYaPgMCL0gX\n"
     ]
    }
   ],
   "source": [
    "track_id = request['tracks']['items'][0]['id']\n",
    "print(f\"Track ID: {track_id}\")"
   ]
  },
  {
   "cell_type": "code",
   "execution_count": 94,
   "id": "c7d1aaec",
   "metadata": {},
   "outputs": [
    {
     "name": "stdout",
     "output_type": "stream",
     "text": [
      "Album name: 30\n"
     ]
    }
   ],
   "source": [
    "# Album name\n",
    "album_name = request['tracks']['items'][1]['album']['name']\n",
    "print(f\"Album name: {album_name}\")"
   ]
  },
  {
   "cell_type": "code",
   "execution_count": 85,
   "id": "e120dead",
   "metadata": {},
   "outputs": [
    {
     "data": {
      "text/plain": [
       "[{'danceability': 0.604,\n",
       "  'energy': 0.366,\n",
       "  'key': 5,\n",
       "  'loudness': -7.519,\n",
       "  'mode': 1,\n",
       "  'speechiness': 0.0282,\n",
       "  'acousticness': 0.578,\n",
       "  'instrumentalness': 0,\n",
       "  'liveness': 0.133,\n",
       "  'valence': 0.13,\n",
       "  'tempo': 141.981,\n",
       "  'type': 'audio_features',\n",
       "  'id': '0gplL1WMoJ6iYaPgMCL0gX',\n",
       "  'uri': 'spotify:track:0gplL1WMoJ6iYaPgMCL0gX',\n",
       "  'track_href': 'https://api.spotify.com/v1/tracks/0gplL1WMoJ6iYaPgMCL0gX',\n",
       "  'analysis_url': 'https://api.spotify.com/v1/audio-analysis/0gplL1WMoJ6iYaPgMCL0gX',\n",
       "  'duration_ms': 224695,\n",
       "  'time_signature': 4}]"
      ]
     },
     "execution_count": 85,
     "metadata": {},
     "output_type": "execute_result"
    }
   ],
   "source": [
    "# Get audio features\n",
    "sp.audio_features(track_id)"
   ]
  },
  {
   "cell_type": "markdown",
   "id": "4931bad1",
   "metadata": {},
   "source": [
    "## Metacritic Webscrape\n",
    "URL: https://www.metacritic.com/"
   ]
  },
  {
   "cell_type": "markdown",
   "id": "82ad0212",
   "metadata": {},
   "source": [
    "**EXAMPLE**\n",
    "\n",
    "![example1](images/metacritic1.png)"
   ]
  },
  {
   "cell_type": "code",
   "execution_count": 107,
   "id": "286ab891",
   "metadata": {},
   "outputs": [],
   "source": [
    "from bs4 import BeautifulSoup\n",
    "\n",
    "user_agent = {'User-agent': 'Mozilla/5.0'}\n",
    "\n",
    "url = f\"https://www.metacritic.com/music/{album_name}/{artist}\"\n",
    "\n",
    "r = requests.get(search_url, headers = user_agent)\n",
    "soup = BeautifulSoup(r.text,\"html.parser\") "
   ]
  },
  {
   "cell_type": "code",
   "execution_count": 111,
   "id": "b793e0bc",
   "metadata": {},
   "outputs": [
    {
     "data": {
      "text/plain": [
       "[<div class=\"metascore_w xlarge album positive\"><meta content=\"0\" itemprop=\"worstRating\"/><meta content=\"100\" itemprop=\"bestRating\"/><span itemprop=\"ratingValue\">88</span></div>]"
      ]
     },
     "execution_count": 111,
     "metadata": {},
     "output_type": "execute_result"
    }
   ],
   "source": [
    "review_data = soup.find_all('div', class_='metascore_w xlarge album positive')\n",
    "review_data"
   ]
  },
  {
   "cell_type": "code",
   "execution_count": 118,
   "id": "f3f5910a",
   "metadata": {},
   "outputs": [
    {
     "name": "stdout",
     "output_type": "stream",
     "text": [
      "Album rating from metacritic: 88\n"
     ]
    }
   ],
   "source": [
    "rating = review_data[0].find_all('span')[0].text\n",
    "\n",
    "print(f\"Album rating from metacritic: {rating}\")"
   ]
  }
 ],
 "metadata": {
  "kernelspec": {
   "display_name": "Python 3 (ipykernel)",
   "language": "python",
   "name": "python3"
  },
  "language_info": {
   "codemirror_mode": {
    "name": "ipython",
    "version": 3
   },
   "file_extension": ".py",
   "mimetype": "text/x-python",
   "name": "python",
   "nbconvert_exporter": "python",
   "pygments_lexer": "ipython3",
   "version": "3.8.15"
  }
 },
 "nbformat": 4,
 "nbformat_minor": 5
}
