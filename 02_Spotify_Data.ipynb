{
 "cells": [
  {
   "cell_type": "code",
   "execution_count": 9,
   "id": "a2a18bdc",
   "metadata": {},
   "outputs": [],
   "source": [
    "import seaborn as sns\n",
    "import pandas as pd\n",
    "import numpy as np\n",
    "import os\n",
    "import kaggle\n",
    "import matplotlib.pyplot as plt\n",
    "import seaborn as sns"
   ]
  },
  {
   "cell_type": "markdown",
   "id": "05bbd371",
   "metadata": {},
   "source": [
    "## Color Palette"
   ]
  },
  {
   "cell_type": "code",
   "execution_count": 1,
   "id": "2be4622f",
   "metadata": {},
   "outputs": [],
   "source": [
    "col_converging = ['#edf8fb','#ccece6','#99d8c9','#66c2a4','#2ca25f','#006d2c']\n",
    "col_diverging = ['#7a0177','#c51b8a','#f768a1','#fa9fb5','#fcc5c0','#feebe2', '#edf8fb','#ccece6','#99d8c9','#66c2a4','#2ca25f','#006d2c']\n",
    "col_qual = ['#1EC98D', '#1B96CD', '#D1E107', '#D14343', '#A98DF7', '#D95C0F', '#fcc5c0', '#386cb0', '#7A0177']"
   ]
  },
  {
   "cell_type": "code",
   "execution_count": 4,
   "id": "9d6d376f",
   "metadata": {},
   "outputs": [
    {
     "data": {
      "text/html": [
       "<svg  width=\"660\" height=\"55\"><rect x=\"0\" y=\"0\" width=\"55\" height=\"55\" style=\"fill:#7a0177;stroke-width:2;stroke:rgb(255,255,255)\"/><rect x=\"55\" y=\"0\" width=\"55\" height=\"55\" style=\"fill:#c51b8a;stroke-width:2;stroke:rgb(255,255,255)\"/><rect x=\"110\" y=\"0\" width=\"55\" height=\"55\" style=\"fill:#f768a1;stroke-width:2;stroke:rgb(255,255,255)\"/><rect x=\"165\" y=\"0\" width=\"55\" height=\"55\" style=\"fill:#fa9fb5;stroke-width:2;stroke:rgb(255,255,255)\"/><rect x=\"220\" y=\"0\" width=\"55\" height=\"55\" style=\"fill:#fcc5c0;stroke-width:2;stroke:rgb(255,255,255)\"/><rect x=\"275\" y=\"0\" width=\"55\" height=\"55\" style=\"fill:#feebe2;stroke-width:2;stroke:rgb(255,255,255)\"/><rect x=\"330\" y=\"0\" width=\"55\" height=\"55\" style=\"fill:#edf8fb;stroke-width:2;stroke:rgb(255,255,255)\"/><rect x=\"385\" y=\"0\" width=\"55\" height=\"55\" style=\"fill:#ccece6;stroke-width:2;stroke:rgb(255,255,255)\"/><rect x=\"440\" y=\"0\" width=\"55\" height=\"55\" style=\"fill:#99d8c9;stroke-width:2;stroke:rgb(255,255,255)\"/><rect x=\"495\" y=\"0\" width=\"55\" height=\"55\" style=\"fill:#66c2a4;stroke-width:2;stroke:rgb(255,255,255)\"/><rect x=\"550\" y=\"0\" width=\"55\" height=\"55\" style=\"fill:#2ca25f;stroke-width:2;stroke:rgb(255,255,255)\"/><rect x=\"605\" y=\"0\" width=\"55\" height=\"55\" style=\"fill:#006d2c;stroke-width:2;stroke:rgb(255,255,255)\"/></svg>"
      ],
      "text/plain": [
       "[(0.47843137254901963, 0.00392156862745098, 0.4666666666666667),\n",
       " (0.7725490196078432, 0.10588235294117647, 0.5411764705882353),\n",
       " (0.9686274509803922, 0.40784313725490196, 0.6313725490196078),\n",
       " (0.9803921568627451, 0.6235294117647059, 0.7098039215686275),\n",
       " (0.9882352941176471, 0.7725490196078432, 0.7529411764705882),\n",
       " (0.996078431372549, 0.9215686274509803, 0.8862745098039215),\n",
       " (0.9294117647058824, 0.9725490196078431, 0.984313725490196),\n",
       " (0.8, 0.9254901960784314, 0.9019607843137255),\n",
       " (0.6, 0.8470588235294118, 0.788235294117647),\n",
       " (0.4, 0.7607843137254902, 0.6431372549019608),\n",
       " (0.17254901960784313, 0.6352941176470588, 0.37254901960784315),\n",
       " (0.0, 0.42745098039215684, 0.17254901960784313)]"
      ]
     },
     "execution_count": 4,
     "metadata": {},
     "output_type": "execute_result"
    }
   ],
   "source": [
    "sns.color_palette(col_diverging)\n",
    "#Use this color palette for diverging data such as negatives and positives"
   ]
  },
  {
   "cell_type": "code",
   "execution_count": 5,
   "id": "b6244b17",
   "metadata": {},
   "outputs": [
    {
     "data": {
      "text/html": [
       "<svg  width=\"330\" height=\"55\"><rect x=\"0\" y=\"0\" width=\"55\" height=\"55\" style=\"fill:#edf8fb;stroke-width:2;stroke:rgb(255,255,255)\"/><rect x=\"55\" y=\"0\" width=\"55\" height=\"55\" style=\"fill:#ccece6;stroke-width:2;stroke:rgb(255,255,255)\"/><rect x=\"110\" y=\"0\" width=\"55\" height=\"55\" style=\"fill:#99d8c9;stroke-width:2;stroke:rgb(255,255,255)\"/><rect x=\"165\" y=\"0\" width=\"55\" height=\"55\" style=\"fill:#66c2a4;stroke-width:2;stroke:rgb(255,255,255)\"/><rect x=\"220\" y=\"0\" width=\"55\" height=\"55\" style=\"fill:#2ca25f;stroke-width:2;stroke:rgb(255,255,255)\"/><rect x=\"275\" y=\"0\" width=\"55\" height=\"55\" style=\"fill:#006d2c;stroke-width:2;stroke:rgb(255,255,255)\"/></svg>"
      ],
      "text/plain": [
       "[(0.9294117647058824, 0.9725490196078431, 0.984313725490196),\n",
       " (0.8, 0.9254901960784314, 0.9019607843137255),\n",
       " (0.6, 0.8470588235294118, 0.788235294117647),\n",
       " (0.4, 0.7607843137254902, 0.6431372549019608),\n",
       " (0.17254901960784313, 0.6352941176470588, 0.37254901960784315),\n",
       " (0.0, 0.42745098039215684, 0.17254901960784313)]"
      ]
     },
     "execution_count": 5,
     "metadata": {},
     "output_type": "execute_result"
    }
   ],
   "source": [
    "sns.color_palette(col_converging)\n",
    "# Use this color palette for converging data"
   ]
  },
  {
   "cell_type": "code",
   "execution_count": 6,
   "id": "6ea65a04",
   "metadata": {},
   "outputs": [
    {
     "data": {
      "image/png": "[encoded data removed]",
      "text/html": [
       "<div style=\"vertical-align: middle;\"><strong>blend</strong> </div><div class=\"cmap\"><img alt=\"blend colormap\" title=\"blend\" style=\"border: 1px solid #555;\" src=\"data:image/png;base64,iVBORw0KGgoAAAANSUhEUgAAAgAAAABACAYAAABsv8+/AAAAFHRFWHRUaXRsZQBibGVuZCBjb2xvcm1hcKH0gPAAAAAadEVYdERlc2NyaXB0aW9uAGJsZW5kIGNvbG9ybWFwX6spFgAAADB0RVh0QXV0aG9yAE1hdHBsb3RsaWIgdjMuNy4wLCBodHRwczovL21hdHBsb3RsaWIub3JnjyRoQwAAADJ0RVh0U29mdHdhcmUATWF0cGxvdGxpYiB2My43LjAsIGh0dHBzOi8vbWF0cGxvdGxpYi5vcmehgvdkAAABp0lEQVR4nO3WS0oDQRRA0af7X6nO3EA7kBhBYn/SkcA9ZxKkUp3UK4L35e3jfZmZWWaZmZnl6+XH38vsWZ+j+7/fNzf2XVb+Xl/bv3V9bq3fOZ/rMe7bvza/m9//0fNZ27/zfL8/5+B81p6/+fzPdc/X38Vj7nnz88+6h7Pv+Z/m8/scO/dvPN+cPZ+15z/LfHbObw6e//T/cwfPNyvr987v4nUAgBwBAABBAgAAggQAAAQJAAAIEgAAECQAACBIAABAkAAAgCABAABBAgAAggQAAAQJAAAIEgAAECQAACBIAABAkAAAgCABAABBAgAAggQAAAQJAAAIEgAAECQAACBIAABAkAAAgCABAABBAgAAggQAAAQJAAAIEgAAECQAACBIAABAkAAAgCABAABBAgAAggQAAAQJAAAIEgAAECQAACBIAABAkAAAgCABAABBAgAAggQAAAQJAAAIEgAAECQAACBIAABAkAAAgCABAABBAgAAggQAAAQJAAAIEgAAECQAACBIAABAkAAAgCABAABBAgAAggQAAAQJAAAIEgAAECQAACDoEzh2MDYq3tsOAAAAAElFTkSuQmCC\"></div><div style=\"vertical-align: middle; max-width: 514px; display: flex; justify-content: space-between;\"><div style=\"float: left;\"><div title=\"#eaf3ecff\" style=\"display: inline-block; width: 1em; height: 1em; margin: 0; vertical-align: middle; border: 1px solid #555; background-color: #eaf3ecff;\"></div> under</div><div style=\"margin: 0 auto; display: inline-block;\">bad <div title=\"#00000000\" style=\"display: inline-block; width: 1em; height: 1em; margin: 0; vertical-align: middle; border: 1px solid #555; background-color: #00000000;\"></div></div><div style=\"float: right;\">over <div title=\"#006d2cff\" style=\"display: inline-block; width: 1em; height: 1em; margin: 0; vertical-align: middle; border: 1px solid #555; background-color: #006d2cff;\"></div></div>"
      ],
      "text/plain": [
       "<matplotlib.colors.LinearSegmentedColormap at 0x21485d28430>"
      ]
     },
     "execution_count": 6,
     "metadata": {},
     "output_type": "execute_result"
    }
   ],
   "source": [
    "sns.color_palette(\"light:#006d2c\", as_cmap=True)\n",
    "#Use this color palette for continuous converging data"
   ]
  },
  {
   "cell_type": "code",
   "execution_count": null,
   "id": "3c63ab7b",
   "metadata": {},
   "outputs": [],
   "source": []
  }
 ],
 "metadata": {
  "kernelspec": {
   "display_name": "Python 3 (ipykernel)",
   "language": "python",
   "name": "python3"
  },
  "language_info": {
   "codemirror_mode": {
    "name": "ipython",
    "version": 3
   },
   "file_extension": ".py",
   "mimetype": "text/x-python",
   "name": "python",
   "nbconvert_exporter": "python",
   "pygments_lexer": "ipython3",
   "version": "3.10.9"
  }
 },
 "nbformat": 4,
 "nbformat_minor": 5
}
