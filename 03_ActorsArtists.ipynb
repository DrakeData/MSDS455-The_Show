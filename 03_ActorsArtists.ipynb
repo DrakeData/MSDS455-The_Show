{
 "cells": [
  {
   "cell_type": "code",
   "execution_count": 4,
   "id": "d89084d6",
   "metadata": {},
   "outputs": [],
   "source": [
    "import pandas as pd\n",
    "import numpy as py\n",
    "import os\n",
    "from bs4 import BeautifulSoup\n",
    "import json\n",
    "import requests"
   ]
  },
  {
   "cell_type": "code",
   "execution_count": null,
   "id": "a5e39417",
   "metadata": {},
   "outputs": [],
   "source": [
    "user_agent = {'User-agent': 'Mozilla/5.0'}\n",
    "\n",
    "url = f\"https://www.imdb.com/name/nm3078932/\"\n",
    "\n",
    "r = requests.get(url, headers = user_agent)\n",
    "soup = BeautifulSoup(r.text,\"html.parser\") "
   ]
  },
  {
   "cell_type": "code",
   "execution_count": null,
   "id": "af35e52d",
   "metadata": {},
   "outputs": [],
   "source": [
    "print(soup.prettify())"
   ]
  },
  {
   "cell_type": "code",
   "execution_count": null,
   "id": "08f779cf",
   "metadata": {},
   "outputs": [],
   "source": [
    "data1 = soup.find_all('main', class_=\"ipc-page-wrapper ipc-page-wrapper--base\")\n",
    "print(data1[0].prettify())"
   ]
  },
  {
   "cell_type": "code",
   "execution_count": null,
   "id": "209ea383",
   "metadata": {},
   "outputs": [],
   "source": [
    "data2 = data1[0].find_all('ul', class_=\"ipc-metadata-list ipc-metadata-list--dividers-between ipc-metadata-list--base\")\n",
    "print(data2[0].prettify())"
   ]
  },
  {
   "cell_type": "code",
   "execution_count": null,
   "id": "82d1a1b8",
   "metadata": {},
   "outputs": [],
   "source": [
    "composer_tite_data = data2[0].find_all('a', class_=\"ipc-metadata-list-summary-item__t\")\n",
    "\n",
    "\n",
    "composer_tite_ls = []\n",
    "\n",
    "for i in range(len(composer_tite_data)):\n",
    "    composer_tite_ls.append(composer_tite_data[i].text)\n"
   ]
  },
  {
   "cell_type": "code",
   "execution_count": null,
   "id": "49f81b88",
   "metadata": {},
   "outputs": [],
   "source": [
    "composer_tite_data[14].text"
   ]
  },
  {
   "cell_type": "code",
   "execution_count": null,
   "id": "328fbaf7",
   "metadata": {},
   "outputs": [],
   "source": [
    "composer_tite_ls"
   ]
  },
  {
   "cell_type": "markdown",
   "id": "5d80a7de",
   "metadata": {},
   "source": [
    "## Webscraping artist and what movies/tv show they have acted in"
   ]
  },
  {
   "cell_type": "code",
   "execution_count": 75,
   "id": "f5859c7b",
   "metadata": {},
   "outputs": [],
   "source": [
    "from selenium import webdriver\n",
    "from selenium.webdriver.common.keys import Keys\n",
    "from selenium.webdriver.common.by import By\n",
    "from selenium.webdriver.common.action_chains import ActionChains\n",
    "from selenium.webdriver.support.ui import WebDriverWait\n",
    "import time"
   ]
  },
  {
   "cell_type": "code",
   "execution_count": 98,
   "id": "b23f8790",
   "metadata": {
    "scrolled": true
   },
   "outputs": [
    {
     "name": "stderr",
     "output_type": "stream",
     "text": [
      "C:\\Users\\Nicholas\\AppData\\Local\\Temp\\ipykernel_4128\\509655743.py:1: DeprecationWarning: executable_path has been deprecated, please pass in a Service object\n",
      "  driver = webdriver.Chrome('./chromedriver')\n"
     ]
    },
    {
     "data": {
      "text/plain": [
       "['Joker: Folie à Deux',\n",
       " 'House of Gucci',\n",
       " 'A Star Is Born',\n",
       " 'American Horror Story',\n",
       " 'Sin City: A Dame to Kill For',\n",
       " 'Muppets Most Wanted',\n",
       " 'Machete Kills',\n",
       " 'The Simpsons',\n",
       " 'Men in Black 3',\n",
       " 'The Lonely Island Feat. Lady Gaga & Justin Timberlake: 3-Way (the Golden Rule)',\n",
       " 'Gossip Girl',\n",
       " \"Lady Gaga Feat. Colby O'Donis: Just Dance\",\n",
       " 'The Sopranos']"
      ]
     },
     "execution_count": 98,
     "metadata": {},
     "output_type": "execute_result"
    }
   ],
   "source": [
    "driver = webdriver.Chrome('./chromedriver')\n",
    "\n",
    "# list of URLs to scrape\n",
    "\n",
    "url_ls = [\"https://www.imdb.com/name/nm3078932/\"]\n",
    "\n",
    "for url in url_ls:\n",
    "    driver.get(url)\n",
    "    \n",
    "    # Scroll down for elements to populate\n",
    "    element = driver.find_element(\"xpath\", '''//*[@id=\"__next\"]/main/div/section[1]/div/section/div/div[1]/div[4]/section[2]/div[5]/div/div/div[4]/div/ul/li[14]/div[2]''')\n",
    "    driver.execute_script(\"arguments[0].scrollIntoView(true);\",element)\n",
    "    \n",
    "    # Open up hidden xpaths\n",
    "    time.sleep(5)\n",
    "    driver.find_element(\"xpath\", '''//*[@id=\"__next\"]/main/div/section[1]/div/section/div/div[1]/div[4]/section[2]/div[7]/div[1]/div/div[1]/label''').click()\n",
    "    driver.find_element(\"xpath\", '''//*[@id=\"__next\"]/main/div/section[1]/div/section/div/div[1]/div[4]/section[2]/div[7]/div[2]/div''').click()\n",
    "    \n",
    "    # read in html from page\n",
    "    page_source = driver.page_source\n",
    "    soup = BeautifulSoup(page_source, 'html.parser')\n",
    "    \n",
    "    soup1 = soup.find_all('div', class_=\"ipc-accordion__item__content_inner accordion-content\")\n",
    "    \n",
    "    # Get list of movies the artist acted in\n",
    "    movie_ls = []\n",
    "    for i in range(1, 3):\n",
    "        for x in range(len(soup1[i].find_all('a', class_=\"ipc-metadata-list-summary-item__t\"))):\n",
    "            movie_ls.append(soup1[i].find_all('a', class_=\"ipc-metadata-list-summary-item__t\")[x].text)\n",
    "    \n",
    "    # CLose driver\n",
    "    driver.close()\n",
    "\n",
    "movie_ls"
   ]
  }
 ],
 "metadata": {
  "kernelspec": {
   "display_name": "Python 3 (ipykernel)",
   "language": "python",
   "name": "python3"
  },
  "language_info": {
   "codemirror_mode": {
    "name": "ipython",
    "version": 3
   },
   "file_extension": ".py",
   "mimetype": "text/x-python",
   "name": "python",
   "nbconvert_exporter": "python",
   "pygments_lexer": "ipython3",
   "version": "3.10.9"
  }
 },
 "nbformat": 4,
 "nbformat_minor": 5
}
