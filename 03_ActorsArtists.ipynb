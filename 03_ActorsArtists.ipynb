{
 "cells": [
  {
   "cell_type": "code",
   "execution_count": 1,
   "id": "d89084d6",
   "metadata": {},
   "outputs": [],
   "source": [
    "import pandas as pd\n",
    "import numpy as py\n",
    "import os\n",
    "from bs4 import BeautifulSoup\n",
    "import json\n",
    "import requests"
   ]
  },
  {
   "cell_type": "markdown",
   "id": "5d80a7de",
   "metadata": {},
   "source": [
    "## Webscraping artist and what movies/tv show they have acted in"
   ]
  },
  {
   "cell_type": "code",
   "execution_count": 4,
   "id": "f5859c7b",
   "metadata": {},
   "outputs": [],
   "source": [
    "from selenium import webdriver\n",
    "from selenium.webdriver.common.keys import Keys\n",
    "from selenium.webdriver.common.by import By\n",
    "from selenium.webdriver.common.action_chains import ActionChains\n",
    "from selenium.webdriver.support.ui import WebDriverWait\n",
    "import time"
   ]
  },
  {
   "cell_type": "code",
   "execution_count": 8,
   "id": "b23f8790",
   "metadata": {
    "scrolled": true
   },
   "outputs": [
    {
     "name": "stderr",
     "output_type": "stream",
     "text": [
      "C:\\Users\\Nicholas\\AppData\\Local\\Temp\\ipykernel_25580\\509655743.py:1: DeprecationWarning: executable_path has been deprecated, please pass in a Service object\n",
      "  driver = webdriver.Chrome('./chromedriver')\n"
     ]
    },
    {
     "data": {
      "text/plain": [
       "['Joker: Folie à Deux',\n",
       " 'House of Gucci',\n",
       " 'A Star Is Born',\n",
       " 'American Horror Story',\n",
       " 'Sin City: A Dame to Kill For',\n",
       " 'Muppets Most Wanted',\n",
       " 'Machete Kills',\n",
       " 'The Simpsons',\n",
       " 'Men in Black 3',\n",
       " 'The Lonely Island Feat. Lady Gaga & Justin Timberlake: 3-Way (the Golden Rule)',\n",
       " 'Gossip Girl',\n",
       " \"Lady Gaga Feat. Colby O'Donis: Just Dance\",\n",
       " 'The Sopranos']"
      ]
     },
     "execution_count": 8,
     "metadata": {},
     "output_type": "execute_result"
    }
   ],
   "source": [
    "driver = webdriver.Chrome('./chromedriver')\n",
    "\n",
    "# list of URLs to scrape\n",
    "\n",
    "url_ls = [\"https://www.imdb.com/name/nm3078932/\"]\n",
    "\n",
    "for url in url_ls:\n",
    "    driver.get(url)\n",
    "    \n",
    "    # Scroll down for elements to populate\n",
    "    element = driver.find_element(\"xpath\", '''//*[@id=\"__next\"]/main/div/section[1]/div/section/div/div[1]/div[4]/section[2]/div[5]/div/div/div[4]/div/ul/li[14]/div[2]''')\n",
    "    driver.execute_script(\"arguments[0].scrollIntoView(true);\",element)\n",
    "    \n",
    "    # Open up hidden xpaths\n",
    "    time.sleep(5)\n",
    "    driver.find_element(\"xpath\", '''//*[@id=\"__next\"]/main/div/section[1]/div/section/div/div[1]/div[4]/section[2]/div[7]/div[1]/div/div[1]/label''').click()\n",
    "    driver.find_element(\"xpath\", '''//*[@id=\"__next\"]/main/div/section[1]/div/section/div/div[1]/div[4]/section[2]/div[7]/div[2]/div''').click()\n",
    "    \n",
    "    # read in html from page\n",
    "    page_source = driver.page_source\n",
    "    soup = BeautifulSoup(page_source, 'html.parser')\n",
    "    \n",
    "    soup1 = soup.find_all('div', class_=\"ipc-accordion__item__content_inner accordion-content\")\n",
    "    \n",
    "    # Get list of movies the artist acted in\n",
    "    movie_ls = []\n",
    "    for i in range(1, 3):\n",
    "        for x in range(len(soup1[i].find_all('a', class_=\"ipc-metadata-list-summary-item__t\"))):\n",
    "            movie_ls.append(soup1[i].find_all('a', class_=\"ipc-metadata-list-summary-item__t\")[x].text)\n",
    "    \n",
    "    # CLose driver\n",
    "    driver.close()\n",
    "\n",
    "movie_ls"
   ]
  },
  {
   "cell_type": "markdown",
   "id": "dc55182b",
   "metadata": {},
   "source": [
    "## Get Relase Date from Google"
   ]
  },
  {
   "cell_type": "code",
   "execution_count": 10,
   "id": "7585acc9",
   "metadata": {},
   "outputs": [
    {
     "data": {
      "text/html": [
       "<div>\n",
       "<style scoped>\n",
       "    .dataframe tbody tr th:only-of-type {\n",
       "        vertical-align: middle;\n",
       "    }\n",
       "\n",
       "    .dataframe tbody tr th {\n",
       "        vertical-align: top;\n",
       "    }\n",
       "\n",
       "    .dataframe thead th {\n",
       "        text-align: right;\n",
       "    }\n",
       "</style>\n",
       "<table border=\"1\" class=\"dataframe\">\n",
       "  <thead>\n",
       "    <tr style=\"text-align: right;\">\n",
       "      <th></th>\n",
       "      <th>Artist</th>\n",
       "      <th>Movie</th>\n",
       "    </tr>\n",
       "  </thead>\n",
       "  <tbody>\n",
       "    <tr>\n",
       "      <th>0</th>\n",
       "      <td>Lady Gaga</td>\n",
       "      <td>House of Gucci</td>\n",
       "    </tr>\n",
       "    <tr>\n",
       "      <th>1</th>\n",
       "      <td>Lady Gaga</td>\n",
       "      <td>A Star Is Born</td>\n",
       "    </tr>\n",
       "    <tr>\n",
       "      <th>2</th>\n",
       "      <td>Lady Gaga</td>\n",
       "      <td>American Horror Story</td>\n",
       "    </tr>\n",
       "    <tr>\n",
       "      <th>3</th>\n",
       "      <td>Lady Gaga</td>\n",
       "      <td>Sin City: A Dame to Kill For</td>\n",
       "    </tr>\n",
       "    <tr>\n",
       "      <th>4</th>\n",
       "      <td>Lady Gaga</td>\n",
       "      <td>Muppets Most Wanted</td>\n",
       "    </tr>\n",
       "  </tbody>\n",
       "</table>\n",
       "</div>"
      ],
      "text/plain": [
       "      Artist                         Movie\n",
       "0  Lady Gaga                House of Gucci\n",
       "1  Lady Gaga                A Star Is Born\n",
       "2  Lady Gaga         American Horror Story\n",
       "3  Lady Gaga  Sin City: A Dame to Kill For\n",
       "4  Lady Gaga           Muppets Most Wanted"
      ]
     },
     "execution_count": 10,
     "metadata": {},
     "output_type": "execute_result"
    }
   ],
   "source": [
    "artist_df = pd.read_csv(\"ArtistsActorData.csv\")\n",
    "artist_df.head()"
   ]
  },
  {
   "cell_type": "code",
   "execution_count": 15,
   "id": "d217eb83",
   "metadata": {},
   "outputs": [
    {
     "data": {
      "text/html": [
       "<div>\n",
       "<style scoped>\n",
       "    .dataframe tbody tr th:only-of-type {\n",
       "        vertical-align: middle;\n",
       "    }\n",
       "\n",
       "    .dataframe tbody tr th {\n",
       "        vertical-align: top;\n",
       "    }\n",
       "\n",
       "    .dataframe thead th {\n",
       "        text-align: right;\n",
       "    }\n",
       "</style>\n",
       "<table border=\"1\" class=\"dataframe\">\n",
       "  <thead>\n",
       "    <tr style=\"text-align: right;\">\n",
       "      <th></th>\n",
       "      <th>Artist</th>\n",
       "      <th>Movie</th>\n",
       "      <th>Google_Search</th>\n",
       "    </tr>\n",
       "  </thead>\n",
       "  <tbody>\n",
       "    <tr>\n",
       "      <th>0</th>\n",
       "      <td>Lady Gaga</td>\n",
       "      <td>House of Gucci</td>\n",
       "      <td>release+date+House+of+Gucci</td>\n",
       "    </tr>\n",
       "    <tr>\n",
       "      <th>1</th>\n",
       "      <td>Lady Gaga</td>\n",
       "      <td>A Star Is Born</td>\n",
       "      <td>release+date+A+Star+Is+Born</td>\n",
       "    </tr>\n",
       "    <tr>\n",
       "      <th>2</th>\n",
       "      <td>Lady Gaga</td>\n",
       "      <td>American Horror Story</td>\n",
       "      <td>release+date+American+Horror+Story</td>\n",
       "    </tr>\n",
       "    <tr>\n",
       "      <th>3</th>\n",
       "      <td>Lady Gaga</td>\n",
       "      <td>Sin City: A Dame to Kill For</td>\n",
       "      <td>release+date+Sin+City:+A+Dame+to+Kill+For</td>\n",
       "    </tr>\n",
       "    <tr>\n",
       "      <th>4</th>\n",
       "      <td>Lady Gaga</td>\n",
       "      <td>Muppets Most Wanted</td>\n",
       "      <td>release+date+Muppets+Most+Wanted</td>\n",
       "    </tr>\n",
       "    <tr>\n",
       "      <th>...</th>\n",
       "      <td>...</td>\n",
       "      <td>...</td>\n",
       "      <td>...</td>\n",
       "    </tr>\n",
       "    <tr>\n",
       "      <th>68</th>\n",
       "      <td>Justin Timberlake</td>\n",
       "      <td>Edison</td>\n",
       "      <td>release+date+Edison</td>\n",
       "    </tr>\n",
       "    <tr>\n",
       "      <th>69</th>\n",
       "      <td>Justin Timberlake</td>\n",
       "      <td>Longshot</td>\n",
       "      <td>release+date+Longshot</td>\n",
       "    </tr>\n",
       "    <tr>\n",
       "      <th>70</th>\n",
       "      <td>Justin Timberlake</td>\n",
       "      <td>On the Line</td>\n",
       "      <td>release+date+On+the+Line</td>\n",
       "    </tr>\n",
       "    <tr>\n",
       "      <th>71</th>\n",
       "      <td>Justin Timberlake</td>\n",
       "      <td>The Simpsons</td>\n",
       "      <td>release+date+The+Simpsons</td>\n",
       "    </tr>\n",
       "    <tr>\n",
       "      <th>72</th>\n",
       "      <td>Justin Timberlake</td>\n",
       "      <td>The Wonderful World of Disney</td>\n",
       "      <td>release+date+The+Wonderful+World+of+Disney</td>\n",
       "    </tr>\n",
       "  </tbody>\n",
       "</table>\n",
       "<p>73 rows × 3 columns</p>\n",
       "</div>"
      ],
      "text/plain": [
       "               Artist                          Movie  \\\n",
       "0           Lady Gaga                 House of Gucci   \n",
       "1           Lady Gaga                 A Star Is Born   \n",
       "2           Lady Gaga          American Horror Story   \n",
       "3           Lady Gaga   Sin City: A Dame to Kill For   \n",
       "4           Lady Gaga            Muppets Most Wanted   \n",
       "..                ...                            ...   \n",
       "68  Justin Timberlake                         Edison   \n",
       "69  Justin Timberlake                       Longshot   \n",
       "70  Justin Timberlake                    On the Line   \n",
       "71  Justin Timberlake                   The Simpsons   \n",
       "72  Justin Timberlake  The Wonderful World of Disney   \n",
       "\n",
       "                                 Google_Search  \n",
       "0                  release+date+House+of+Gucci  \n",
       "1                  release+date+A+Star+Is+Born  \n",
       "2           release+date+American+Horror+Story  \n",
       "3    release+date+Sin+City:+A+Dame+to+Kill+For  \n",
       "4             release+date+Muppets+Most+Wanted  \n",
       "..                                         ...  \n",
       "68                         release+date+Edison  \n",
       "69                       release+date+Longshot  \n",
       "70                    release+date+On+the+Line  \n",
       "71                   release+date+The+Simpsons  \n",
       "72  release+date+The+Wonderful+World+of+Disney  \n",
       "\n",
       "[73 rows x 3 columns]"
      ]
     },
     "execution_count": 15,
     "metadata": {},
     "output_type": "execute_result"
    }
   ],
   "source": [
    "# Add column to format Google Search\n",
    "artist_df['Google_Search'] = \"release+date+\" + artist_df['Movie'].replace(\" \", \"+\", regex=True)\n",
    "artist_df"
   ]
  },
  {
   "cell_type": "code",
   "execution_count": 17,
   "id": "8e66851e",
   "metadata": {},
   "outputs": [
    {
     "data": {
      "text/plain": [
       "['release+date+House+of+Gucci',\n",
       " 'release+date+A+Star+Is+Born',\n",
       " 'release+date+American+Horror+Story',\n",
       " 'release+date+Sin+City:+A+Dame+to+Kill+For',\n",
       " 'release+date+Muppets+Most+Wanted']"
      ]
     },
     "execution_count": 17,
     "metadata": {},
     "output_type": "execute_result"
    }
   ],
   "source": [
    "search_ls = artist_df['Google_Search'].tolist()\n",
    "search_ls[:5]"
   ]
  },
  {
   "cell_type": "code",
   "execution_count": 52,
   "id": "c0cc7879",
   "metadata": {},
   "outputs": [],
   "source": [
    "release_date_ls = []\n",
    "\n",
    "user_agent = {'User-agent': 'Mozilla/5.0'}\n",
    "\n",
    "for search in search_ls:\n",
    "    url = f\"https://www.google.com/search?q={search}\"\n",
    "    r = requests.get(url, headers = user_agent)\n",
    "    soup = BeautifulSoup(r.text,\"html.parser\")\n",
    "    search_data1 = soup.find_all(\"div\")\n",
    "    \n",
    "    release_date_ls.append(search_data1[35].text)"
   ]
  },
  {
   "cell_type": "code",
   "execution_count": 53,
   "id": "6b230589",
   "metadata": {},
   "outputs": [
    {
     "data": {
      "text/plain": [
       "['November 24, 2021',\n",
       " 'October 5, 2018',\n",
       " '',\n",
       " 'August 22, 2014',\n",
       " 'March 21, 2014',\n",
       " 'October 11, 2013',\n",
       " 'December 17, 1989',\n",
       " 'May 25, 2012',\n",
       " '\"3-Way (The Golden Rule)\" ; Single by the Lonely Island featuring Justin Timberlake and Lady Gaga ; from the album The Wack Album ; Written, May 19, 2011 ; Released\\xa0...Background and writing · Composition · Reception · Music video and live...',\n",
       " 'September 19, 2007',\n",
       " '2008',\n",
       " 'January 10, 1999',\n",
       " '2022',\n",
       " '2022',\n",
       " 'October 21, 2022',\n",
       " 'September 23, 2022',\n",
       " '2022',\n",
       " '2022',\n",
       " '2022',\n",
       " 'November 5, 2021',\n",
       " '2019',\n",
       " 'Rating  7.9/10  (90) Release date · November 16, 2020 (Italy) · Country of origin. Italy · See more company credits at IMDbPro\\xa0...',\n",
       " '2019',\n",
       " '2019',\n",
       " '2019',\n",
       " 'harrystyles.fandom.com › wiki › BBC_Radio_1_Live_Lounge',\n",
       " '2019',\n",
       " '2019',\n",
       " 'Rating  7.4/10  (63) Details · Release date · May 21, 2019 (United States) · Country of origin. Italy · Official site. GUCCI · Language. English · Filming locations · Villa Lante,\\xa0...',\n",
       " 'Rating  8.4/10  (20) Met Gala: Camp! Teaser: Directed by Bardia Zeinali. With Lady Gaga, Harry Styles, Nathanna. ... Release date · April 19, 2019 (United States).',\n",
       " '2017',\n",
       " '2017',\n",
       " 'harrystyles.fandom.com › wiki › BBC_Radio_1_Live_Lounge',\n",
       " 'Rating  8.5/10  (40) Release date · September 8, 2017 (United States) · Country of origin. United States · Language. English · See more company credits at IMDbPro\\xa0...',\n",
       " 'July 21, 2017',\n",
       " '2017',\n",
       " 'en.wikipedia.org › wiki › Romeo_Santos',\n",
       " '2022',\n",
       " 'May 9, 2022',\n",
       " '2021',\n",
       " 'January 29, 2021',\n",
       " 'April 10, 2020',\n",
       " \"American Psychos: Lori the Narcissist: Directed by Chris Buchal. With Justin Timberlake, Katie O'Grady, Emily Kimball, Jessica Lynn Skinner.\",\n",
       " 'November 20, 2017',\n",
       " 'December 15, 2017',\n",
       " 'November 4, 2016',\n",
       " 'June 3, 2016',\n",
       " 'www.imdb.com › title',\n",
       " 'October 4, 2013',\n",
       " 'Release date · April 7, 2012 (United States) · Country of origin. United States · Official site. All Of The Episodes · Language. English · Filming locations.',\n",
       " 'December 20, 2013',\n",
       " 'September 21, 2012',\n",
       " 'October 28, 2011',\n",
       " 'July 22, 2011',\n",
       " 'June 24, 2011',\n",
       " 'September 27, 2009',\n",
       " 'December 17, 2010',\n",
       " 'October 1, 2010',\n",
       " 'www.adsoftheworld.com › campaigns › the-next-big-thing-cbcdeefc-32cd-...',\n",
       " \"9/10 · Steam\\nThe Next Big Thing is a 2011 comedy graphic adventure game developed by the Spanish company Pendulo Studios and published by Focus Home Interactive. The spiritual successor to Pendulo's Hollywood Monsters, it takes place in an alternate-history... Wikipedia\",\n",
       " 'June 15, 2022',\n",
       " 'August 28, 2009',\n",
       " 'June 20, 2008',\n",
       " '2008',\n",
       " 'May 18, 2007',\n",
       " 'February 13, 2007',\n",
       " 'November 14, 2007',\n",
       " 'January 12, 2007',\n",
       " 'March 5, 2005',\n",
       " 'May 3, 2019',\n",
       " 'November 4, 2022',\n",
       " 'December 17, 1989',\n",
       " 'October 27, 1954']"
      ]
     },
     "execution_count": 53,
     "metadata": {},
     "output_type": "execute_result"
    }
   ],
   "source": [
    "release_date_ls"
   ]
  },
  {
   "cell_type": "code",
   "execution_count": 31,
   "id": "acf94c31",
   "metadata": {},
   "outputs": [],
   "source": [
    "search_data1 = soup.find_all(\"div\")"
   ]
  },
  {
   "cell_type": "code",
   "execution_count": 49,
   "id": "494879e0",
   "metadata": {},
   "outputs": [
    {
     "data": {
      "text/plain": [
       "'November 24, 2021'"
      ]
     },
     "execution_count": 49,
     "metadata": {},
     "output_type": "execute_result"
    }
   ],
   "source": [
    "search_data1[35].text"
   ]
  },
  {
   "cell_type": "code",
   "execution_count": 56,
   "id": "cd2c406c",
   "metadata": {},
   "outputs": [
    {
     "data": {
      "text/html": [
       "<div>\n",
       "<style scoped>\n",
       "    .dataframe tbody tr th:only-of-type {\n",
       "        vertical-align: middle;\n",
       "    }\n",
       "\n",
       "    .dataframe tbody tr th {\n",
       "        vertical-align: top;\n",
       "    }\n",
       "\n",
       "    .dataframe thead th {\n",
       "        text-align: right;\n",
       "    }\n",
       "</style>\n",
       "<table border=\"1\" class=\"dataframe\">\n",
       "  <thead>\n",
       "    <tr style=\"text-align: right;\">\n",
       "      <th></th>\n",
       "      <th>Artist</th>\n",
       "      <th>Movie</th>\n",
       "      <th>Google_Search</th>\n",
       "      <th>Release_Date</th>\n",
       "    </tr>\n",
       "  </thead>\n",
       "  <tbody>\n",
       "    <tr>\n",
       "      <th>0</th>\n",
       "      <td>Lady Gaga</td>\n",
       "      <td>House of Gucci</td>\n",
       "      <td>release+date+House+of+Gucci</td>\n",
       "      <td>November 24, 2021</td>\n",
       "    </tr>\n",
       "    <tr>\n",
       "      <th>1</th>\n",
       "      <td>Lady Gaga</td>\n",
       "      <td>A Star Is Born</td>\n",
       "      <td>release+date+A+Star+Is+Born</td>\n",
       "      <td>October 5, 2018</td>\n",
       "    </tr>\n",
       "    <tr>\n",
       "      <th>2</th>\n",
       "      <td>Lady Gaga</td>\n",
       "      <td>American Horror Story</td>\n",
       "      <td>release+date+American+Horror+Story</td>\n",
       "      <td></td>\n",
       "    </tr>\n",
       "    <tr>\n",
       "      <th>3</th>\n",
       "      <td>Lady Gaga</td>\n",
       "      <td>Sin City: A Dame to Kill For</td>\n",
       "      <td>release+date+Sin+City:+A+Dame+to+Kill+For</td>\n",
       "      <td>August 22, 2014</td>\n",
       "    </tr>\n",
       "    <tr>\n",
       "      <th>4</th>\n",
       "      <td>Lady Gaga</td>\n",
       "      <td>Muppets Most Wanted</td>\n",
       "      <td>release+date+Muppets+Most+Wanted</td>\n",
       "      <td>March 21, 2014</td>\n",
       "    </tr>\n",
       "  </tbody>\n",
       "</table>\n",
       "</div>"
      ],
      "text/plain": [
       "      Artist                         Movie  \\\n",
       "0  Lady Gaga                House of Gucci   \n",
       "1  Lady Gaga                A Star Is Born   \n",
       "2  Lady Gaga         American Horror Story   \n",
       "3  Lady Gaga  Sin City: A Dame to Kill For   \n",
       "4  Lady Gaga           Muppets Most Wanted   \n",
       "\n",
       "                               Google_Search       Release_Date  \n",
       "0                release+date+House+of+Gucci  November 24, 2021  \n",
       "1                release+date+A+Star+Is+Born    October 5, 2018  \n",
       "2         release+date+American+Horror+Story                     \n",
       "3  release+date+Sin+City:+A+Dame+to+Kill+For    August 22, 2014  \n",
       "4           release+date+Muppets+Most+Wanted     March 21, 2014  "
      ]
     },
     "execution_count": 56,
     "metadata": {},
     "output_type": "execute_result"
    }
   ],
   "source": [
    "artist_df['Release_Date'] = release_date_ls\n",
    "\n",
    "artist_df.head()"
   ]
  },
  {
   "cell_type": "code",
   "execution_count": 57,
   "id": "9df05f1a",
   "metadata": {},
   "outputs": [],
   "source": [
    "artist_df.to_csv(\"ArtistActor_Export.csv\", index=False)"
   ]
  },
  {
   "cell_type": "code",
   "execution_count": null,
   "id": "adfcfe01",
   "metadata": {},
   "outputs": [],
   "source": []
  }
 ],
 "metadata": {
  "kernelspec": {
   "display_name": "Python 3 (ipykernel)",
   "language": "python",
   "name": "python3"
  },
  "language_info": {
   "codemirror_mode": {
    "name": "ipython",
    "version": 3
   },
   "file_extension": ".py",
   "mimetype": "text/x-python",
   "name": "python",
   "nbconvert_exporter": "python",
   "pygments_lexer": "ipython3",
   "version": "3.10.9"
  }
 },
 "nbformat": 4,
 "nbformat_minor": 5
}
